{
 "cells": [
  {
   "cell_type": "markdown",
   "metadata": {},
   "source": [
    "<span><h3 style=\"text-align: center;\">I like Python</h3>\n",
    "\n",
    "<p>Напишите программу, которая выводит на экран текст&nbsp;«I***like***Python» (без кавычек).</p>\n",
    "\n",
    "<p><strong>Примечание.</strong> Используйте необязательный параметр <code>sep</code>.</p>\n",
    "\n",
    "<details><summary>Тестовые данные 🟢</summary>\n",
    "\n",
    "<table align=\"center\" border=\"1\" cellpadding=\"1\" cellspacing=\"1\">\n",
    "\t<thead>\n",
    "\t\t<tr>\n",
    "\t\t\t<th>&nbsp; &nbsp; Номер теста&nbsp; &nbsp;&nbsp;</th>\n",
    "\t\t\t<th>&nbsp; &nbsp; Входные данные&nbsp; &nbsp;&nbsp;</th>\n",
    "\t\t\t<th>&nbsp; &nbsp; Выходные данные&nbsp; &nbsp;&nbsp;</th>\n",
    "\t\t</tr>\n",
    "\t</thead>\n",
    "\t<tbody>\n",
    "\t\t<tr>\n",
    "\t\t\t<td style=\"text-align: center;\">1</td>\n",
    "\t\t\t<td style=\"text-align: center;\">&nbsp;</td>\n",
    "\t\t\t<td style=\"text-align: center;\">I***like***Python</td>\n",
    "\t\t</tr>\n",
    "\t</tbody>\n",
    "</table>\n",
    "</details></span>"
   ]
  },
  {
   "cell_type": "code",
   "execution_count": null,
   "metadata": {},
   "outputs": [],
   "source": [
    "print(\"I\", \"like\", \"Python\", sep = \"***\")"
   ]
  },
  {
   "cell_type": "markdown",
   "metadata": {},
   "source": [
    "<span><h3 style=\"text-align: center;\">Кастомный разделитель</h3>\n",
    "\n",
    "<p>Напишите программу, которая считывает строку-разделитель и три строки, а затем выводит указанные строки&nbsp;через разделитель.</p>\n",
    "\n",
    "<p><strong>Формат входных данных</strong><br>\n",
    "На вход программе подаётся строка-разделитель и три строки, каждая&nbsp;на отдельной строке.</p>\n",
    "\n",
    "<p><strong>Формат выходных данных</strong><br>\n",
    "Программа должна вывести введённые три строки через разделитель.</p>\n",
    "\n",
    "<details><summary>Тестовые данные 🟢</summary>\n",
    "\n",
    "<table align=\"center\" border=\"1\" cellpadding=\"1\" cellspacing=\"1\">\n",
    "\t<thead>\n",
    "\t\t<tr>\n",
    "\t\t\t<th>&nbsp; &nbsp; Номер теста&nbsp; &nbsp;&nbsp;</th>\n",
    "\t\t\t<th>&nbsp; &nbsp; Входные данные&nbsp; &nbsp;&nbsp;</th>\n",
    "\t\t\t<th>&nbsp; &nbsp; Выходные данные&nbsp; &nbsp;&nbsp;</th>\n",
    "\t\t</tr>\n",
    "\t</thead>\n",
    "\t<tbody>\n",
    "\t\t<tr>\n",
    "\t\t\t<td style=\"text-align: center;\">1</td>\n",
    "\t\t\t<td style=\"text-align: center;\">*<br>\n",
    "\t\t\tРаз<br>\n",
    "\t\t\tДва<br>\n",
    "\t\t\tТри</td>\n",
    "\t\t\t<td style=\"text-align: center;\">Раз*Два*Три</td>\n",
    "\t\t</tr>\n",
    "\t\t<tr>\n",
    "\t\t\t<td style=\"text-align: center;\">2</td>\n",
    "\t\t\t<td style=\"text-align: center;\">##<br>\n",
    "\t\t\tMoney often<br>\n",
    "\t\t\tcosts<br>\n",
    "\t\t\ttoo much</td>\n",
    "\t\t\t<td style=\"text-align: center;\">Money often##costs##too much</td>\n",
    "\t\t</tr>\n",
    "\t\t<tr>\n",
    "\t\t\t<td style=\"text-align: center;\">3</td>\n",
    "\t\t\t<td style=\"text-align: center;\">python<br>\n",
    "\t\t\t1<br>\n",
    "\t\t\t2<br>\n",
    "\t\t\t3</td>\n",
    "\t\t\t<td style=\"text-align: center;\">1python2python3</td>\n",
    "\t\t</tr>\n",
    "\t</tbody>\n",
    "</table>\n",
    "</details></span>"
   ]
  },
  {
   "cell_type": "code",
   "execution_count": null,
   "metadata": {},
   "outputs": [],
   "source": [
    "symbol = input()\n",
    "data = [input(), input(), input()]\n",
    "print(*data, sep = symbol)"
   ]
  },
  {
   "cell_type": "markdown",
   "metadata": {},
   "source": [
    "<span><h3 style=\"text-align: center;\">Приветствие</h3>\n",
    "\n",
    "<p>Напишите программу, которая приветствует пользователя, выводя слово&nbsp;«Привет» (без кавычек), после которого должна стоять запятая и пробел, а затем введенное имя&nbsp;и <strong>восклицательный знак</strong>.</p>\n",
    "\n",
    "<p><strong>Формат входных данных</strong><br>\n",
    "На вход программе подаётся одна строка —&nbsp;имя пользователя.</p>\n",
    "\n",
    "<p><strong>Формат выходных данных</strong><br>\n",
    "Программа должна вывести текст в соотвествии с условием задачи.</p>\n",
    "\n",
    "<p><strong>Примечание 1.</strong> Перед восклицательным&nbsp;знаком не должно быть пробелов.</p>\n",
    "\n",
    "<p><strong>Примечание 2.</strong>&nbsp;Используйте необязательный параметр <code>end</code>.</p>\n",
    "\n",
    "<details><summary>Тестовые данные 🟢</summary>\n",
    "\n",
    "<table align=\"center\" border=\"1\" cellpadding=\"1\" cellspacing=\"1\">\n",
    "\t<thead>\n",
    "\t\t<tr>\n",
    "\t\t\t<th>&nbsp; &nbsp; Номер теста&nbsp; &nbsp;&nbsp;</th>\n",
    "\t\t\t<th>&nbsp; &nbsp; Входные данные&nbsp; &nbsp;&nbsp;</th>\n",
    "\t\t\t<th>&nbsp; &nbsp; Выходные данные&nbsp; &nbsp;&nbsp;</th>\n",
    "\t\t</tr>\n",
    "\t</thead>\n",
    "\t<tbody>\n",
    "\t\t<tr>\n",
    "\t\t\t<td style=\"text-align: center;\">1</td>\n",
    "\t\t\t<td style=\"text-align: center;\">Тирион</td>\n",
    "\t\t\t<td style=\"text-align: center;\">Привет, Тирион!</td>\n",
    "\t\t</tr>\n",
    "\t\t<tr>\n",
    "\t\t\t<td style=\"text-align: center;\">2</td>\n",
    "\t\t\t<td style=\"text-align: center;\">Джон</td>\n",
    "\t\t\t<td style=\"text-align: center;\">Привет, Джон!</td>\n",
    "\t\t</tr>\n",
    "\t\t<tr>\n",
    "\t\t\t<td style=\"text-align: center;\">3</td>\n",
    "\t\t\t<td style=\"text-align: center;\">Дейенерис</td>\n",
    "\t\t\t<td style=\"text-align: center;\">Привет, Дейенерис!</td>\n",
    "\t\t</tr>\n",
    "\t\t<tr>\n",
    "\t\t\t<td style=\"text-align: center;\">4</td>\n",
    "\t\t\t<td style=\"text-align: center;\">Серсея</td>\n",
    "\t\t\t<td style=\"text-align: center;\">Привет, Серсея!</td>\n",
    "\t\t</tr>\n",
    "\t\t<tr>\n",
    "\t\t\t<td style=\"text-align: center;\">5</td>\n",
    "\t\t\t<td style=\"text-align: center;\">Санса</td>\n",
    "\t\t\t<td style=\"text-align: center;\">Привет, Санса!</td>\n",
    "\t\t</tr>\n",
    "\t</tbody>\n",
    "</table>\n",
    "</details></span>"
   ]
  },
  {
   "cell_type": "code",
   "execution_count": null,
   "metadata": {},
   "outputs": [],
   "source": [
    "print(f\"Привет, {input()}!\")"
   ]
  }
 ],
 "metadata": {
  "kernelspec": {
   "display_name": "Python 3.8.10 64-bit",
   "language": "python",
   "name": "python3"
  },
  "language_info": {
   "name": "python",
   "version": "3.8.10"
  },
  "orig_nbformat": 4,
  "vscode": {
   "interpreter": {
    "hash": "808ade87766a86b4ff14ce34fb10e5d0c10f82b234c5173894f6fade04b42f1d"
   }
  }
 },
 "nbformat": 4,
 "nbformat_minor": 2
}
